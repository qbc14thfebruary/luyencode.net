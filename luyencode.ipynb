{
 "metadata": {
  "language_info": {
   "codemirror_mode": {
    "name": "ipython",
    "version": 3
   },
   "file_extension": ".py",
   "mimetype": "text/x-python",
   "name": "python",
   "nbconvert_exporter": "python",
   "pygments_lexer": "ipython3",
   "version": "3.7.0-final"
  },
  "orig_nbformat": 2,
  "kernelspec": {
   "name": "python3",
   "display_name": "Python 3.7.0 64-bit",
   "metadata": {
    "interpreter": {
     "hash": "467b751ebb0251aba0034ce9b4c8b091492eaad642913cc898bed572ac438719"
    }
   }
  }
 },
 "nbformat": 4,
 "nbformat_minor": 2,
 "cells": [
  {
   "cell_type": "code",
   "execution_count": 24,
   "metadata": {},
   "outputs": [
    {
     "output_type": "stream",
     "name": "stdout",
     "text": [
      "Welcome my website\n"
     ]
    }
   ],
   "source": [
    "#Cb01\n",
    "print(\"Welcome my website\")"
   ]
  },
  {
   "cell_type": "code",
   "execution_count": 15,
   "metadata": {},
   "outputs": [
    {
     "output_type": "stream",
     "name": "stdout",
     "text": [
      "8\n"
     ]
    }
   ],
   "source": [
    "#CB02\n",
    "# import math\n",
    "a = int(input(\"Input a:\"))\n",
    "b = int(input(\"Input b:\"))\n",
    "print(a+b)"
   ]
  },
  {
   "cell_type": "code",
   "execution_count": 22,
   "metadata": {},
   "outputs": [
    {
     "output_type": "stream",
     "name": "stdout",
     "text": [
      "Tong cua 3 so:  12\n"
     ]
    }
   ],
   "source": [
    "#Cb03\n",
    "import math\n",
    "a,b,c = [int(x) for x in input().split()]\n",
    "print(\"Tong cua 3 so: \",a+b+c)"
   ]
  },
  {
   "cell_type": "code",
   "execution_count": 1,
   "metadata": {},
   "outputs": [
    {
     "output_type": "stream",
     "name": "stdout",
     "text": [
      "Tong: 3, hieu: -1, nhan : 0.5, chia: 2\n"
     ]
    }
   ],
   "source": [
    "#CB04\n",
    "a,b = [int(x) for x in input().split() if int(x) < 100]\n",
    "print(\"Tong: {0}, hieu: {1}, nhan : {2}, chia: {3}\".format(a+b, a - b, a/b, a*b))"
   ]
  },
  {
   "cell_type": "code",
   "execution_count": 8,
   "metadata": {},
   "outputs": [
    {
     "output_type": "stream",
     "name": "stdout",
     "text": [
      "1\n"
     ]
    }
   ],
   "source": [
    "#Cb05\n",
    "a, b = [int(x) for x in input().split() if int(x) < 1e6 and int(x) > 0]\n",
    "print(a%b)\n"
   ]
  },
  {
   "cell_type": "code",
   "execution_count": 12,
   "metadata": {},
   "outputs": [
    {
     "output_type": "stream",
     "name": "stdout",
     "text": [
      "60\n200\n"
     ]
    }
   ],
   "source": [
    "#cb06\n",
    "cd, cr = [int(x) for x in input().split() if int(x) in range(0, 1000)]\n",
    "print((cd+cr)*2)\n",
    "print(cd*cr)"
   ]
  },
  {
   "cell_type": "code",
   "execution_count": 30,
   "metadata": {},
   "outputs": [
    {
     "output_type": "stream",
     "name": "stdout",
     "text": [
      "0.785 3.142\n"
     ]
    }
   ],
   "source": [
    "#cb07\n",
    "import math\n",
    "r = float(input())\n",
    "if r > 0 and r < 1e3:\n",
    "    s = math.pow(r,2)*math.pi\n",
    "    cv = 2*r*math.pi\n",
    "    print(round(s,3), round(cv,3))"
   ]
  },
  {
   "cell_type": "code",
   "execution_count": 33,
   "metadata": {},
   "outputs": [
    {
     "output_type": "stream",
     "name": "stdout",
     "text": [
      "1 + 1 = 2\n"
     ]
    }
   ],
   "source": [
    "#cb08\n",
    "import math\n",
    "a, b = [int(x) for x in input().split() if abs(int(x)) in range(0, 10000)]\n",
    "print(\"{0} + {1} = {2}\".format(a,b, a+b)  )"
   ]
  },
  {
   "cell_type": "code",
   "execution_count": 36,
   "metadata": {},
   "outputs": [
    {
     "output_type": "stream",
     "name": "stdout",
     "text": [
      "5\n"
     ]
    }
   ],
   "source": [
    "#DK01\n",
    "a, b = [int(x) for x in input().split() if abs(int(x)) in range(10000)]\n",
    "if a > b :\n",
    "    print(a)\n",
    "else:\n",
    "    print(b)\n"
   ]
  },
  {
   "cell_type": "code",
   "execution_count": 43,
   "metadata": {},
   "outputs": [
    {
     "output_type": "stream",
     "name": "stdout",
     "text": [
      "3\n"
     ]
    }
   ],
   "source": [
    "a,b,c = [int(x) for x in input().split() if int(x) in range(0,1000)]\n",
    "max = a\n",
    "if max < b:\n",
    "    max = b\n",
    "if max < c:\n",
    "    max = c\n",
    "print(max)"
   ]
  },
  {
   "cell_type": "code",
   "execution_count": 46,
   "metadata": {},
   "outputs": [
    {
     "output_type": "stream",
     "name": "stdout",
     "text": [
      "60\n"
     ]
    }
   ],
   "source": [
    "#DK03\n",
    "a, b = [int(x) for x in input().split() if int(x) in range (1000)]\n",
    "print(abs(a) - abs(b))"
   ]
  },
  {
   "cell_type": "code",
   "execution_count": 1,
   "metadata": {},
   "outputs": [
    {
     "output_type": "stream",
     "name": "stdout",
     "text": [
      "11\n"
     ]
    }
   ],
   "source": [
    "#Dk04\n",
    "n = float(input())\n",
    "print(round(n))"
   ]
  },
  {
   "cell_type": "code",
   "execution_count": 6,
   "metadata": {},
   "outputs": [
    {
     "output_type": "stream",
     "name": "stdout",
     "text": [
      "Yes\n"
     ]
    }
   ],
   "source": [
    "#Dk05\n",
    "import math\n",
    "n = int(input())\n",
    "if math.pow(math.sqrt(n),2) == n:\n",
    "    print(\"Yes\")\n",
    "else:\n",
    "    print(\"No\")"
   ]
  },
  {
   "cell_type": "code",
   "execution_count": 10,
   "metadata": {},
   "outputs": [
    {
     "output_type": "stream",
     "name": "stdout",
     "text": [
      "Giai ax + b = 0\n",
      "-0.33\n"
     ]
    }
   ],
   "source": [
    "#Dk06\n",
    "print(\"Giai ax + b = 0\")\n",
    "a, b = [int(x) for x in input().split() if abs(int(x)) < 1000]\n",
    "print(round(-b/a, 2))"
   ]
  },
  {
   "cell_type": "code",
   "execution_count": 24,
   "metadata": {},
   "outputs": [
    {
     "output_type": "stream",
     "name": "stdout",
     "text": [
      "Giai pt: ax2 + bx + c = 0\n",
      "-1.0 -1.0\n"
     ]
    }
   ],
   "source": [
    "#Dk07\n",
    "import math\n",
    "print(\"Giai pt: ax2 + bx + c = 0\")\n",
    "a, b, c = [int(x)  for x in input().split() if abs(int(x)) < 1000]\n",
    "delta = pow(b,2) - 4*a*c\n",
    "if a==b==c==0:\n",
    "    print(\"INF\")\n",
    "elif delta < 0:\n",
    "    print(\"NO\")\n",
    "else:\n",
    "    x1 = (-b + math.sqrt(delta))/(2*a)\n",
    "    x2 = (-b - math.sqrt(delta))/(2*a)\n",
    "    if x1 > x2:\n",
    "        print(x1,x2)\n",
    "    else:\n",
    "        print(x2,x1)\n",
    "    "
   ]
  },
  {
   "cell_type": "code",
   "execution_count": 44,
   "metadata": {},
   "outputs": [
    {
     "output_type": "stream",
     "name": "stdout",
     "text": [
      "1.0\n"
     ]
    }
   ],
   "source": [
    "#Dk08\n",
    "import math\n",
    "strs = input().split()\n",
    "if strs[1] == \"+\":\n",
    "    print(round(float(strs[0])+ float(strs[2]), 2))\n",
    "if strs[1] == \"-\":\n",
    "    print(round(float(strs[0]) - float(strs[2]), 2))\n",
    "if strs[1] == \"*\":\n",
    "    print(round(float(strs[0]) * float(strs[2]), 2))\n",
    "if strs[1] == \"/\":\n",
    "    if float(strs[2]) == 0:\n",
    "        print(\"Math Erro\")\n",
    "    else:\n",
    "        print(round(float(strs[0]) / float(strs[2]), 2))"
   ]
  },
  {
   "cell_type": "code",
   "execution_count": 56,
   "metadata": {
    "tags": []
   },
   "outputs": [
    {
     "output_type": "stream",
     "name": "stdout",
     "text": [
      "Xac dinh nam nhuan\n",
      "Yes\n"
     ]
    }
   ],
   "source": [
    "#DK09\n",
    "print(\"Xac dinh nam nhuan\")\n",
    "n = int(input())\n",
    "if n < 100000:\n",
    "    if n%4 ==0 and n%100 !=0 or n%400 == 0:\n",
    "        print(\"Yes\")\n",
    "    else:\n",
    "        print(\"No\")\n",
    "else:\n",
    "    print(\"invald\")"
   ]
  },
  {
   "cell_type": "code",
   "execution_count": 84,
   "metadata": {},
   "outputs": [
    {
     "output_type": "stream",
     "name": "stdout",
     "text": [
      "invalid\n"
     ]
    }
   ],
   "source": [
    "#dk10\n",
    "month1 = [1,3,5,7,9, 10, 12]\n",
    "month2 = [4,6,8,11]\n",
    "month , year = [int(x) for x in input().split()]\n",
    "def checkyear(year):\n",
    "    if year % 4 == 0 and year % 100 !=0:\n",
    "        return True\n",
    "    elif year % 400 == 0:\n",
    "        return True\n",
    "    else: \n",
    "        return False\n",
    "if month in month1:\n",
    "    print(\"31\")\n",
    "elif month in month2:\n",
    "    print(\"30\")\n",
    "elif month == 2:\n",
    "    if checkyear(year) == True:\n",
    "        print(\"29\")\n",
    "    else:\n",
    "        print(\"28\")\n",
    "else:\n",
    "    print(\"invalid\")"
   ]
  },
  {
   "cell_type": "code",
   "execution_count": 91,
   "metadata": {},
   "outputs": [
    {
     "output_type": "stream",
     "name": "stdout",
     "text": [
      "2\n3\n4\n5\n"
     ]
    }
   ],
   "source": [
    "#VL01\n",
    "a, b = [int(x) for x in input().split()]\n",
    "for x in range(a,b):\n",
    "    print(x)"
   ]
  },
  {
   "cell_type": "code",
   "execution_count": 97,
   "metadata": {},
   "outputs": [
    {
     "output_type": "stream",
     "name": "stdout",
     "text": [
      "Tinh tong: S=1+2+3+...+n\n",
      "6\n"
     ]
    }
   ],
   "source": [
    "#Sum1\n",
    "print(\"Tinh tong: S=1+2+3+...+n\")\n",
    "sum = 0\n",
    "n = int(input())\n",
    "for x in range(n+1):\n",
    "    sum += x\n",
    "print(sum)"
   ]
  },
  {
   "cell_type": "code",
   "execution_count": null,
   "metadata": {},
   "outputs": [],
   "source": []
  }
 ]
}