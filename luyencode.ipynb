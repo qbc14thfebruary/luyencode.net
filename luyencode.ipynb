{
 "metadata": {
  "language_info": {
   "codemirror_mode": {
    "name": "ipython",
    "version": 3
   },
   "file_extension": ".py",
   "mimetype": "text/x-python",
   "name": "python",
   "nbconvert_exporter": "python",
   "pygments_lexer": "ipython3",
   "version": "3.7.0-final"
  },
  "orig_nbformat": 2,
  "kernelspec": {
   "name": "python3",
   "display_name": "Python 3.7.0 64-bit",
   "metadata": {
    "interpreter": {
     "hash": "467b751ebb0251aba0034ce9b4c8b091492eaad642913cc898bed572ac438719"
    }
   }
  }
 },
 "nbformat": 4,
 "nbformat_minor": 2,
 "cells": [
  {
   "cell_type": "code",
   "execution_count": 24,
   "metadata": {},
   "outputs": [
    {
     "output_type": "stream",
     "name": "stdout",
     "text": [
      "Welcome my website\n"
     ]
    }
   ],
   "source": [
    "#Cb01\n",
    "print(\"Welcome my website\")"
   ]
  },
  {
   "cell_type": "code",
   "execution_count": 15,
   "metadata": {},
   "outputs": [
    {
     "output_type": "stream",
     "name": "stdout",
     "text": [
      "8\n"
     ]
    }
   ],
   "source": [
    "#CB02\n",
    "# import math\n",
    "a = int(input(\"Input a:\"))\n",
    "b = int(input(\"Input b:\"))\n",
    "print(a+b)"
   ]
  },
  {
   "cell_type": "code",
   "execution_count": 22,
   "metadata": {},
   "outputs": [
    {
     "output_type": "stream",
     "name": "stdout",
     "text": [
      "Tong cua 3 so:  12\n"
     ]
    }
   ],
   "source": [
    "#Cb03\n",
    "import math\n",
    "a,b,c = [int(x) for x in input().split()]\n",
    "print(\"Tong cua 3 so: \",a+b+c)"
   ]
  },
  {
   "cell_type": "code",
   "execution_count": 1,
   "metadata": {},
   "outputs": [
    {
     "output_type": "stream",
     "name": "stdout",
     "text": [
      "Tong: 3, hieu: -1, nhan : 0.5, chia: 2\n"
     ]
    }
   ],
   "source": [
    "#CB04\n",
    "a,b = [int(x) for x in input().split() if int(x) < 100]\n",
    "print(\"Tong: {0}, hieu: {1}, nhan : {2}, chia: {3}\".format(a+b, a - b, a/b, a*b))"
   ]
  },
  {
   "cell_type": "code",
   "execution_count": null,
   "metadata": {},
   "outputs": [],
   "source": []
  }
 ]
}